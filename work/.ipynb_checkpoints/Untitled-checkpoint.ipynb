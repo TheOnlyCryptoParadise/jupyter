{
 "cells": [
  {
   "cell_type": "code",
   "execution_count": 6,
   "id": "31d81a9f-2ecc-4d33-9499-3b556094bda1",
   "metadata": {},
   "outputs": [],
   "source": [
    " #%load strategy.py\n",
    "import sys\n",
    "\n",
    "\n",
    "\n",
    "from bot_app.bot_entity.bot import Bot\n",
    "\n",
    "\n",
    "\n",
    "\n",
    "\n",
    "class Strategy(Bot):\n",
    "\n",
    "\n",
    "\n",
    "    def calc_indicators(self, currency_pair):\n",
    "\n",
    "        print(\"aaaa indykatory\")\n",
    "\n",
    "\n",
    "\n",
    "    def check_buy_signals(self, indicators):\n",
    "\n",
    "        print(\"aaaaaa buy signal\")\n",
    "        return True\n",
    "\n",
    "\n",
    "\n",
    "    def check_sell_signals(self, indicators):\n",
    "\n",
    "        print(\"aaaaaa sell signal\")\n",
    "\n",
    "\n",
    "\n",
    "if __name__ == '__main__':\n",
    "\n",
    "    bot = Strategy(sys.argv[1], sys.argv[2], sys.argv[3], sys.argv[4], sys.argv[5])\n",
    "\n",
    "    # bot = Strategy(\"bot1\", './strategy.py', '../../yml_configs/example_config.yml', 'localhost:55043')\n",
    "\n",
    "\n"
   ]
  },
  {
   "cell_type": "code",
   "execution_count": 1,
   "id": "e89a8bcd",
   "metadata": {},
   "outputs": [],
   "source": [
    "import crypto_package as cp\n",
    "import pandas\n",
    "import matplotlib.pyplot as plt"
   ]
  },
  {
   "cell_type": "code",
   "execution_count": 5,
   "id": "5d7a8cb7-9359-4075-8e75-fad3bfa50cf1",
   "metadata": {},
   "outputs": [
    {
     "name": "stdout",
     "output_type": "stream",
     "text": [
      "       close      high       low      open        time      volume\n",
      "0   48597.51  49630.66  48557.73  49630.66  1639357200  2701.53721\n",
      "1   48770.42  48930.56  48430.13  48597.51  1639360800  1537.92901\n",
      "2   48873.19  49076.74  48691.08  48770.42  1639364400  1053.46168\n",
      "3   49025.08  49100.00  48751.96  48873.20  1639368000   783.08517\n",
      "4   49238.03  49350.90  48851.47  49026.65  1639371600  1076.26977\n",
      "5   48936.88  49304.00  48872.46  49238.03  1639375200   905.81189\n",
      "6   48740.01  48995.94  48554.77  48936.88  1639378800  1284.61901\n",
      "7   49015.00  49171.57  48145.00  48740.01  1639382400  1996.57085\n",
      "8   48859.29  49035.87  48700.89  49015.00  1639386000   863.05186\n",
      "9   48688.03  48909.35  48502.00  48859.29  1639389600   818.76152\n",
      "10  48847.26  48904.90  48560.85  48688.03  1639393200   862.51194\n",
      "11  48588.51  49000.00  48530.32  48845.00  1639396800  1047.54794\n",
      "12  48420.97  48644.35  48149.63  48588.51  1639400400  1598.26464\n",
      "13  47958.62  48426.20  47700.81  48420.97  1639404000  2860.91865\n",
      "14  47252.02  47960.69  47012.03  47960.09  1639407600  4018.43951\n",
      "15  47141.41  47559.37  46653.00  47252.02  1639411200  4670.06575\n",
      "16  47513.15  47932.19  47070.01  47141.41  1639414800  2916.45194\n",
      "17  47444.56  47684.55  47305.00  47513.16  1639418400  1045.85113\n",
      "18  46709.17  47444.55  45672.75  47444.55  1639422000  9227.18257\n",
      "19  46791.74  46900.00  46214.13  46660.00  1639429200  1815.30642\n",
      "20  46889.28  47288.19  46677.43  46791.74  1639432800  1754.38097\n",
      "21  46702.75  47059.55  46555.01  46887.34  1639436400  1198.35733\n",
      "22  47000.01  47226.32  46290.00  46702.76  1639440000  1757.07383\n",
      "23  46868.28  47108.23  46580.00  47000.00  1639443600  1050.49120\n",
      "24  47029.66  47074.79  46677.90  46868.27  1639447200  1010.55788\n",
      "25  46952.00  47117.64  46752.31  47029.65  1639450800   949.54617\n",
      "26  46989.67  47176.22  46861.80  46952.01  1639454400  1274.66918\n",
      "27  46701.26  47133.99  46675.00  46989.68  1639458000  1209.30338\n",
      "28  46670.32  46961.14  46306.80  46701.26  1639461600  1672.77134\n",
      "29  47000.00  47050.00  46506.38  46670.32  1639465200  1246.92289\n",
      "30  47462.00  47516.25  46968.24  46999.99  1639468800  2292.92478\n",
      "31  46832.65  47498.66  46789.69  47462.00  1639472400  1844.99023\n",
      "32  47345.50  47383.88  46800.00  46833.11  1639476000  1654.17270\n",
      "33  47622.00  47740.00  47178.66  47345.50  1639479600  1848.51791\n",
      "34  47508.31  47959.77  47505.91  47617.99  1639483200  2248.94580\n",
      "35  47168.15  47679.46  46980.94  47508.31  1639486800  2092.83220\n",
      "36  47281.94  47333.33  46814.27  47168.15  1639490400  1847.79492\n",
      "37  46853.86  47517.27  46617.25  47281.93  1639494000  2245.26816\n",
      "38  46737.53  47148.00  46532.35  46853.87  1639497600  2027.82043\n",
      "39  46895.11  47100.01  46650.00  46739.58  1639501200  1052.43843\n"
     ]
    }
   ],
   "source": [
    "candles, _= cp.get_candles('binance', 'BTC/USDT', '1h', last_n_candles=40)\n",
    "print(candles)"
   ]
  },
  {
   "cell_type": "code",
   "execution_count": 6,
   "id": "bcad8929",
   "metadata": {},
   "outputs": [
    {
     "data": {
      "text/html": [
       "<div>\n",
       "<style scoped>\n",
       "    .dataframe tbody tr th:only-of-type {\n",
       "        vertical-align: middle;\n",
       "    }\n",
       "\n",
       "    .dataframe tbody tr th {\n",
       "        vertical-align: top;\n",
       "    }\n",
       "\n",
       "    .dataframe thead th {\n",
       "        text-align: right;\n",
       "    }\n",
       "</style>\n",
       "<table border=\"1\" class=\"dataframe\">\n",
       "  <thead>\n",
       "    <tr style=\"text-align: right;\">\n",
       "      <th></th>\n",
       "      <th>close</th>\n",
       "      <th>high</th>\n",
       "      <th>low</th>\n",
       "      <th>open</th>\n",
       "      <th>time</th>\n",
       "      <th>volume</th>\n",
       "    </tr>\n",
       "  </thead>\n",
       "  <tbody>\n",
       "    <tr>\n",
       "      <th>0</th>\n",
       "      <td>48597.51</td>\n",
       "      <td>49630.66</td>\n",
       "      <td>48557.73</td>\n",
       "      <td>49630.66</td>\n",
       "      <td>1639357200</td>\n",
       "      <td>2701.53721</td>\n",
       "    </tr>\n",
       "    <tr>\n",
       "      <th>1</th>\n",
       "      <td>48770.42</td>\n",
       "      <td>48930.56</td>\n",
       "      <td>48430.13</td>\n",
       "      <td>48597.51</td>\n",
       "      <td>1639360800</td>\n",
       "      <td>1537.92901</td>\n",
       "    </tr>\n",
       "    <tr>\n",
       "      <th>2</th>\n",
       "      <td>48873.19</td>\n",
       "      <td>49076.74</td>\n",
       "      <td>48691.08</td>\n",
       "      <td>48770.42</td>\n",
       "      <td>1639364400</td>\n",
       "      <td>1053.46168</td>\n",
       "    </tr>\n",
       "    <tr>\n",
       "      <th>3</th>\n",
       "      <td>49025.08</td>\n",
       "      <td>49100.00</td>\n",
       "      <td>48751.96</td>\n",
       "      <td>48873.20</td>\n",
       "      <td>1639368000</td>\n",
       "      <td>783.08517</td>\n",
       "    </tr>\n",
       "    <tr>\n",
       "      <th>4</th>\n",
       "      <td>49238.03</td>\n",
       "      <td>49350.90</td>\n",
       "      <td>48851.47</td>\n",
       "      <td>49026.65</td>\n",
       "      <td>1639371600</td>\n",
       "      <td>1076.26977</td>\n",
       "    </tr>\n",
       "  </tbody>\n",
       "</table>\n",
       "</div>"
      ],
      "text/plain": [
       "      close      high       low      open        time      volume\n",
       "0  48597.51  49630.66  48557.73  49630.66  1639357200  2701.53721\n",
       "1  48770.42  48930.56  48430.13  48597.51  1639360800  1537.92901\n",
       "2  48873.19  49076.74  48691.08  48770.42  1639364400  1053.46168\n",
       "3  49025.08  49100.00  48751.96  48873.20  1639368000   783.08517\n",
       "4  49238.03  49350.90  48851.47  49026.65  1639371600  1076.26977"
      ]
     },
     "execution_count": 6,
     "metadata": {},
     "output_type": "execute_result"
    }
   ],
   "source": [
    "candles.head()"
   ]
  },
  {
   "cell_type": "code",
   "execution_count": 7,
   "id": "7b28c113",
   "metadata": {},
   "outputs": [
    {
     "data": {
      "text/plain": [
       "<AxesSubplot:>"
      ]
     },
     "execution_count": 7,
     "metadata": {},
     "output_type": "execute_result"
    },
    {
     "data": {
      "image/png": "[encoded data removed]",
      "text/plain": [
       "<Figure size 432x288 with 1 Axes>"
      ]
     },
     "metadata": {
      "needs_background": "light"
     },
     "output_type": "display_data"
    }
   ],
   "source": [
    "candles.plot()"
   ]
  },
  {
   "cell_type": "code",
   "execution_count": 8,
   "id": "bb611c86",
   "metadata": {},
   "outputs": [
    {
     "name": "stdout",
     "output_type": "stream",
     "text": [
      "               ask askVolume average   baseVolume       bid bidVolume  change  \\\n",
      "BTC/USDT  46899.63    0.9693    None  48359.76096  46899.62   0.01778 -488.18   \n",
      "\n",
      "             close                  datetime      high  \\\n",
      "BTC/USDT  46900.88  2021-12-14T17:42:06.452Z  47959.77   \n",
      "\n",
      "                                                       info      last  \\\n",
      "BTC/USDT  {'askPrice': '46899.63000000', 'askQty': '0.96...  46900.88   \n",
      "\n",
      "               low      open percentage previousClose        quoteVolume  \\\n",
      "BTC/USDT  45672.75  47389.06      -1.03      47389.05  2267732459.305098   \n",
      "\n",
      "            symbol      timestamp          vwap  \n",
      "BTC/USDT  BTC/USDT  1639503726452  46892.962543  \n"
     ]
    }
   ],
   "source": [
    "_, price = cp.get_live_price('binance', ['BTC/USDT'])\n",
    "print(price)"
   ]
  },
  {
   "cell_type": "code",
   "execution_count": null,
   "id": "a078060a",
   "metadata": {},
   "outputs": [],
   "source": []
  }
 ],
 "metadata": {
  "kernelspec": {
   "display_name": "Python 3 (ipykernel)",
   "language": "python",
   "name": "python3"
  },
  "language_info": {
   "codemirror_mode": {
    "name": "ipython",
    "version": 3
   },
   "file_extension": ".py",
   "mimetype": "text/x-python",
   "name": "python",
   "nbconvert_exporter": "python",
   "pygments_lexer": "ipython3",
   "version": "3.9.7"
  }
 },
 "nbformat": 4,
 "nbformat_minor": 5
}
