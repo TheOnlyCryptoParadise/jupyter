{
 "cells": [
  {
   "cell_type": "markdown",
   "id": "192d42bd-3fb0-481e-b7d4-73e5b9d0286b",
   "metadata": {},
   "source": [
    "# CryptoParadise Jupyter Analysis  \n",
    "\n",
    "This Jupyter Lab enables you to create and analyze your strategy before running the actual Bot. \n",
    "\n",
    "### Bot Creation\n",
    "Creating req Bot requires from you creating strategy.py and config.yml files. You can find templates of those files in Jupyter - template_strategy.py and template_config.yml.  \n",
    "#### strategy.py\n",
    "To make strategy, you need to implement functions defined in Strategy class. Those functions will be invoked, every time a new candle will come to Bot.  \n",
    "* *calc_indicators* - it will calculate indicators needed for below functions. As an argument it takes pandas DataFrame containing candles.\n",
    "* *check_buy_signals* - here you shoould place your strategy for buying. As a result return True, if Bot should buy currency with actual price or False, if Bot shouldn't buy now.\n",
    "* *check_sell_signals* - similiar to *check_buy_signals*, but for selling currncies.\n",
    "\n",
    "#### config.yml\n",
    "Config contains data as pairs, ticker size etc. In template_config you can find descriptions of all parameters.\n",
    "\n",
    "#### To create a Bot, place your strategy.py and config.yml files in separate directory. Bot will be created based on the directory. Make sure to have both files inside.\n",
    "\n",
    "### Backtesting\n",
    "Use crypto_package to create perfect strategy and configuration files for your Bot.\n",
    "Available functions:  \n",
    "* crypto_package.get_candles(exchange, pair, ticker, last_n_candles)\n",
    "* \n",
    "\n",
    "\n",
    "\n",
    "#### Tips\n",
    "* You can load file to Jupyter NoteBook using following command: ```%load filename.yml```\n",
    "* You can write a Jupyter Notebbok's cell to a file using: ```%%writefile abc.txt ```\n",
    "* In directories ```bot1```, ```bot2``` you can find different strategies for bots\n"
   ]
  },
  {
   "cell_type": "code",
   "execution_count": null,
   "id": "d5dff504-e235-4b13-80cf-7a0409e4dd3a",
   "metadata": {},
   "outputs": [],
   "source": []
  }
 ],
 "metadata": {
  "kernelspec": {
   "display_name": "Python 3 (ipykernel)",
   "language": "python",
   "name": "python3"
  },
  "language_info": {
   "codemirror_mode": {
    "name": "ipython",
    "version": 3
   },
   "file_extension": ".py",
   "mimetype": "text/x-python",
   "name": "python",
   "nbconvert_exporter": "python",
   "pygments_lexer": "ipython3",
   "version": "3.9.7"
  }
 },
 "nbformat": 4,
 "nbformat_minor": 5
}
