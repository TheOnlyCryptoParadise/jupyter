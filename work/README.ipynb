{
 "cells": [
  {
   "cell_type": "markdown",
   "id": "192d42bd-3fb0-481e-b7d4-73e5b9d0286b",
   "metadata": {},
   "source": [
    "# CryptoParadise Jupyter Analysis  \n",
    "\n",
    "This Jupyter Lab enables you to create and analyze your strategy before running the actual Bot. \n",
    "\n",
    "### Bot Creation\n",
    "Creating req Bot requires from you creating strategy.py and config.yml files. You can find templates of those files in Jupyter - template_strategy.py and template_config.yml.  \n",
    "#### strategy.py\n",
    "To make strategy, you need to implement functions defined in Strategy class. Those functions will be invoked, every time a new candle will come to Bot.  \n",
    "* *calc_indicators* - it will calculate indicators needed for below functions. As an argument it takes pandas DataFrame containing candles.\n",
    "* *check_buy_signals* - here you shoould place your strategy for buying. As a result return True, if Bot should buy currency with actual price or False, if Bot shouldn't buy now.\n",
    "* *check_sell_signals* - similiar to *check_buy_signals*, but for selling currncies.\n",
    "\n",
    "#### config.yml\n",
    "Config contains data as pairs, ticker size etc. In template_config you can find descriptions of all parameters.\n",
    "\n",
    "#### To create a Bot, place your strategy.py and config.yml files in separate directory. Bot will be created based on the directory. Make sure to have both files inside.\n",
    "\n",
    "### Backtesting\n",
    "Use crypto_package to create perfect strategy and configuration files for your Bot.\n",
    "Available functions:  \n",
    "\n",
    "* ```crypto_package.get_candles(exchange, pair, ticker, time_start=None, time_end=None, last_n_candles=None)```\n",
    "* ```crypto_package.get_live_price(exchange: str, currency_pairs: [str])```\n",
    "   \n",
    "* ```BacktestingBot(config_path:str)```\n",
    "* ```BacktestingBot.test_strategy(calc_ind_f, buy_sig_f, sell_sig_f, start_balance=1000, time_start=None, time_end=None, last_n_days=None) -> AnalysisResult```\n",
    "\n",
    "* ```get_candles_and_plot(exchange: str, pair: str, candle_size: str, time_start: datetime = None, time_end: datetime = None, last_n_candles: int = None, trades: AnalysisResult = None, width: int = 1000, height: int = 600)```\n",
    "* ```plot_candles(candles: DataFrame, trades: AnalysisResult = None, pair=None, width: int = 1000, height: int = 650)```\n",
    "* ```plot_indicators(indicators_df: DataFrame, indicators: List[str], width: int = 1000, height: int = 650)```\n",
    "* ```plot_profit(trades: AnalysisResult, width: int = 1000, height: int = 650)```\n",
    "* ```plot_profit_per_pair(trades: AnalysisResult, pairs: List[str] = None, width: int = 1000, height: int = 650)```\n",
    "\n",
    "```\n",
    "class AnalysisResult(BaseModel):\n",
    "    trades: List[Trade]\n",
    "    start_balance: float\n",
    "    end_balance: float\n",
    "    start_datetime: datetime\n",
    "    end_datetime: datetime\n",
    "    \n",
    "class Trade(pydantic.BaseModel):\n",
    "    pair: str\n",
    "    is_buy: bool\n",
    "    price: float\n",
    "    timestamp: datetime\n",
    "    amount: float\n",
    "```\n",
    "\n",
    "#### Tips\n",
    "* You can load file to Jupyter NoteBook using following command: ```%load filename.yml```\n",
    "* You can write a Jupyter Notebbok's cell to a file using: ```%%writefile abc.txt ```\n",
    "* In directories ```bot1```, ```bot2``` you can find different strategies for bots\n"
   ]
  },
  {
   "cell_type": "code",
   "execution_count": null,
   "id": "d5dff504-e235-4b13-80cf-7a0409e4dd3a",
   "metadata": {},
   "outputs": [],
   "source": []
  }
 ],
 "metadata": {
  "kernelspec": {
   "display_name": "Python 3 (ipykernel)",
   "language": "python",
   "name": "python3"
  },
  "language_info": {
   "codemirror_mode": {
    "name": "ipython",
    "version": 3
   },
   "file_extension": ".py",
   "mimetype": "text/x-python",
   "name": "python",
   "nbconvert_exporter": "python",
   "pygments_lexer": "ipython3",
   "version": "3.9.7"
  }
 },
 "nbformat": 4,
 "nbformat_minor": 5
}
