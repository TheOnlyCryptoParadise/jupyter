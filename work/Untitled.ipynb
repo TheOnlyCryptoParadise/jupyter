{
 "cells": [
  {
   "cell_type": "code",
   "execution_count": null,
   "id": "31d81a9f-2ecc-4d33-9499-3b556094bda1",
   "metadata": {},
   "outputs": [],
   "source": [
    "# %load strategy.py\n",
    "import sys\n",
    "\n",
    "from bot_entity.bot import Bot\n",
    "\n",
    "\n",
    "class Strategy(Bot):\n",
    "\n",
    "\n",
    "    def calc_indicators(self, currency_pair):\n",
    "        print(\"aaaa indykatory\")\n",
    "\n",
    "\n",
    "\n",
    "    def check_buy_signals(self, indicators):\n",
    "        print(\"aaaaaa buy signal\")\n",
    "\n",
    "\n",
    "\n",
    "    def check_sell_signals(self, indicators):\n",
    "        print(\"aaaaaa sell signal\")\n",
    "\n",
    "\n",
    "if __name__ == '__main__':\n",
    "\n",
    "    bot = Strategy(sys.argv[1], sys.argv[2], sys.argv[3], sys.argv[4], sys.argv[5])\n",
    "    # bot = Strategy(\"bot1\", './strategy.py', '../../yml_configs/example_config.yml', 'localhost:55043')\n",
    "\n"
   ]
  },
  {
   "cell_type": "code",
   "execution_count": 2,
   "id": "e89a8bcd",
   "metadata": {},
   "outputs": [
    {
     "ename": "ModuleNotFoundError",
     "evalue": "No module named 'crypto_package'",
     "output_type": "error",
     "traceback": [
      "\u001b[0;31m---------------------------------------------------------------------------\u001b[0m",
      "\u001b[0;31mModuleNotFoundError\u001b[0m                       Traceback (most recent call last)",
      "\u001b[0;32m/tmp/ipykernel_39/3979072934.py\u001b[0m in \u001b[0;36m<module>\u001b[0;34m\u001b[0m\n\u001b[0;32m----> 1\u001b[0;31m \u001b[0;32mimport\u001b[0m \u001b[0mcrypto_package\u001b[0m \u001b[0;32mas\u001b[0m \u001b[0mcp\u001b[0m\u001b[0;34m\u001b[0m\u001b[0;34m\u001b[0m\u001b[0m\n\u001b[0m",
      "\u001b[0;31mModuleNotFoundError\u001b[0m: No module named 'crypto_package'"
     ]
    }
   ],
   "source": [
    "import crypto_package as cp\n",
    "import pandas\n",
    "import matplotlib.pyplot as plt"
   ]
  },
  {
   "cell_type": "code",
   "execution_count": 3,
   "id": "5d7a8cb7-9359-4075-8e75-fad3bfa50cf1",
   "metadata": {},
   "outputs": [
    {
     "ename": "NameError",
     "evalue": "name 'cp' is not defined",
     "output_type": "error",
     "traceback": [
      "\u001b[0;31m---------------------------------------------------------------------------\u001b[0m",
      "\u001b[0;31mNameError\u001b[0m                                 Traceback (most recent call last)",
      "\u001b[0;32m/tmp/ipykernel_39/3476340595.py\u001b[0m in \u001b[0;36m<module>\u001b[0;34m\u001b[0m\n\u001b[0;32m----> 1\u001b[0;31m \u001b[0mcandles\u001b[0m \u001b[0;34m=\u001b[0m \u001b[0mcp\u001b[0m\u001b[0;34m.\u001b[0m\u001b[0mget_candles\u001b[0m\u001b[0;34m(\u001b[0m\u001b[0;34m'binance'\u001b[0m\u001b[0;34m,\u001b[0m \u001b[0;34m'BTC/USDT'\u001b[0m\u001b[0;34m,\u001b[0m \u001b[0;34m'1h'\u001b[0m\u001b[0;34m,\u001b[0m \u001b[0mlast_n_candles\u001b[0m\u001b[0;34m=\u001b[0m\u001b[0;36m40\u001b[0m\u001b[0;34m)\u001b[0m\u001b[0;34m\u001b[0m\u001b[0;34m\u001b[0m\u001b[0m\n\u001b[0m",
      "\u001b[0;31mNameError\u001b[0m: name 'cp' is not defined"
     ]
    }
   ],
   "source": [
    "candles = cp.get_candles('binance', 'BTC/USDT', '1h', last_n_candles=40)\n",
    "print(candles)"
   ]
  },
  {
   "cell_type": "code",
   "execution_count": null,
   "id": "bcad8929",
   "metadata": {},
   "outputs": [],
   "source": [
    "candles.head()"
   ]
  },
  {
   "cell_type": "code",
   "execution_count": null,
   "id": "7b28c113",
   "metadata": {},
   "outputs": [],
   "source": [
    "candles.plot()"
   ]
  },
  {
   "cell_type": "code",
   "execution_count": 4,
   "id": "bb611c86",
   "metadata": {},
   "outputs": [
    {
     "ename": "NameError",
     "evalue": "name 'cp' is not defined",
     "output_type": "error",
     "traceback": [
      "\u001b[0;31m---------------------------------------------------------------------------\u001b[0m",
      "\u001b[0;31mNameError\u001b[0m                                 Traceback (most recent call last)",
      "\u001b[0;32m/tmp/ipykernel_39/3478496399.py\u001b[0m in \u001b[0;36m<module>\u001b[0;34m\u001b[0m\n\u001b[0;32m----> 1\u001b[0;31m \u001b[0mprice\u001b[0m \u001b[0;34m=\u001b[0m \u001b[0mcp\u001b[0m\u001b[0;34m.\u001b[0m\u001b[0mget_live_price\u001b[0m\u001b[0;34m(\u001b[0m\u001b[0;34m'binance'\u001b[0m\u001b[0;34m,\u001b[0m \u001b[0;34m[\u001b[0m\u001b[0;34m'BTC/USDT'\u001b[0m\u001b[0;34m]\u001b[0m\u001b[0;34m)\u001b[0m\u001b[0;34m\u001b[0m\u001b[0;34m\u001b[0m\u001b[0m\n\u001b[0m\u001b[1;32m      2\u001b[0m \u001b[0mprint\u001b[0m\u001b[0;34m(\u001b[0m\u001b[0mprice\u001b[0m\u001b[0;34m)\u001b[0m\u001b[0;34m\u001b[0m\u001b[0;34m\u001b[0m\u001b[0m\n",
      "\u001b[0;31mNameError\u001b[0m: name 'cp' is not defined"
     ]
    }
   ],
   "source": [
    "price = cp.get_live_price('binance', ['BTC/USDT'])\n",
    "print(price)"
   ]
  },
  {
   "cell_type": "code",
   "execution_count": null,
   "id": "a078060a",
   "metadata": {},
   "outputs": [],
   "source": []
  }
 ],
 "metadata": {
  "kernelspec": {
   "display_name": "Python 3 (ipykernel)",
   "language": "python",
   "name": "python3"
  },
  "language_info": {
   "codemirror_mode": {
    "name": "ipython",
    "version": 3
   },
   "file_extension": ".py",
   "mimetype": "text/x-python",
   "name": "python",
   "nbconvert_exporter": "python",
   "pygments_lexer": "ipython3",
   "version": "3.9.7"
  }
 },
 "nbformat": 4,
 "nbformat_minor": 5
}
