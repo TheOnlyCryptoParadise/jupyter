{
 "cells": [
  {
   "cell_type": "code",
   "execution_count": 6,
   "id": "31d81a9f-2ecc-4d33-9499-3b556094bda1",
   "metadata": {},
   "outputs": [],
   "source": [
    " #%load strategy.py\n",
    "import sys\n",
    "\n",
    "\n",
    "\n",
    "from bot_app.bot_entity.bot import Bot\n",
    "\n",
    "\n",
    "\n",
    "\n",
    "\n",
    "class Strategy(Bot):\n",
    "\n",
    "\n",
    "\n",
    "    def calc_indicators(self, currency_pair):\n",
    "\n",
    "        print(\"aaaa indykatory\")\n",
    "\n",
    "\n",
    "\n",
    "    def check_buy_signals(self, indicators):\n",
    "\n",
    "        print(\"aaaaaa buy signal\")\n",
    "        return True\n",
    "\n",
    "\n",
    "\n",
    "    def check_sell_signals(self, indicators):\n",
    "\n",
    "        print(\"aaaaaa sell signal\")\n",
    "\n",
    "\n",
    "\n",
    "if __name__ == '__main__':\n",
    "\n",
    "    bot = Strategy(sys.argv[1], sys.argv[2], sys.argv[3], sys.argv[4], sys.argv[5])\n",
    "\n",
    "    # bot = Strategy(\"bot1\", './strategy.py', '../../yml_configs/example_config.yml', 'localhost:55043')\n",
    "\n",
    "\n"
   ]
  },
  {
   "cell_type": "code",
   "execution_count": 7,
   "id": "e89a8bcd",
   "metadata": {},
   "outputs": [],
   "source": [
    "import crypto_package as cp\n",
    "import pandas\n",
    "import matplotlib.pyplot as plt"
   ]
  },
  {
   "cell_type": "code",
   "execution_count": 8,
   "id": "5d7a8cb7-9359-4075-8e75-fad3bfa50cf1",
   "metadata": {},
   "outputs": [
    {
     "name": "stdout",
     "output_type": "stream",
     "text": [
      "       close      high       low      open        time      volume\n",
      "0   60569.46  61199.65  60369.15  60453.50  1637100000  1166.17851\n",
      "1   60058.87  60673.99  60000.00  60568.38  1637103600  1065.41727\n",
      "2   59712.06  60437.68  59450.00  60058.87  1637107200  2290.43430\n",
      "3   59317.37  60275.44  59230.76  59712.06  1637110800  2180.24673\n",
      "4   59371.88  59737.62  59082.21  59317.38  1637114400  2442.80294\n",
      "5   59039.99  59770.00  58553.12  59371.88  1637118000  3516.97320\n",
      "6   59417.21  59495.53  58580.00  59042.00  1637121600  2120.49328\n",
      "7   59594.03  59820.99  59243.03  59417.22  1637125200  1384.83102\n",
      "8   59607.99  59797.57  59288.16  59594.04  1637128800  1239.02806\n",
      "9   59688.00  60142.85  59350.00  59607.99  1637132400  1948.05945\n",
      "10  59586.18  60023.00  59570.01  59691.90  1637136000  1749.51744\n",
      "11  58926.02  59591.93  58800.00  59586.19  1637139600  2304.00574\n",
      "12  60508.03  60601.03  58373.00  58926.02  1637143200  4350.33059\n",
      "13  60762.83  60840.23  60315.04  60514.99  1637146800  3339.49527\n",
      "14  60455.91  60822.27  60417.64  60762.33  1637150400  1328.25921\n",
      "15  60103.08  60600.00  60001.77  60455.92  1637154000  1303.42551\n",
      "16  59612.55  60458.38  59582.37  60103.12  1637157600  2071.93023\n",
      "17  59664.49  59800.00  59334.23  59612.55  1637161200  1778.56225\n",
      "18  60388.99  60449.75  59404.75  59664.50  1637164800  2418.06083\n",
      "19  60236.02  60484.32  59990.00  60389.00  1637168400  1349.13107\n",
      "20  60470.65  60642.85  60206.92  60232.98  1637172000  1398.05450\n",
      "21  60212.49  60672.13  60092.86  60470.65  1637175600  1016.93935\n",
      "22  60395.51  60575.08  60021.00  60212.48  1637179200  1306.43396\n",
      "23  60098.62  60405.81  59738.40  60395.51  1637182800  1437.62120\n",
      "24  59969.01  60125.90  59620.66  60098.62  1637186400   965.38246\n",
      "25  60344.87  60494.04  59784.81  59969.02  1637190000  1049.36632\n",
      "26  60490.37  60740.46  60125.17  60344.86  1637193600  1378.35606\n",
      "27  60569.74  60976.00  60076.98  60490.37  1637197200  2047.90279\n",
      "28  60655.42  60802.58  60389.22  60569.73  1637200800  1320.77286\n",
      "29  59840.01  60672.53  59840.00  60655.43  1637204400  1951.91154\n",
      "30  59676.05  60096.12  59631.74  59840.01  1637208000  2375.13586\n",
      "31  59801.20  59906.85  59550.15  59676.05  1637211600  1372.17654\n",
      "32  59827.82  60035.46  59584.25  59801.19  1637215200  1384.35141\n",
      "33  59734.20  59886.33  59500.00  59827.82  1637218800  1605.61130\n",
      "34  59659.74  59840.89  59470.00  59734.21  1637222400  1114.32964\n",
      "35  59274.49  59742.73  58962.77  59659.74  1637226000  2389.89861\n",
      "36  59789.23  59845.10  58981.18  59274.49  1637229600  1939.26855\n",
      "37  59213.49  59970.82  59153.05  59789.23  1637233200  1715.67129\n",
      "38  59124.66  59935.00  59001.00  59213.49  1637236800  2872.57459\n",
      "39  59390.98  59764.59  58740.63  59124.67  1637240400  2589.65203\n"
     ]
    }
   ],
   "source": [
    "candles = cp.get_candles('binance', 'BTC/USDT', '1h', last_n_candles=40)\n",
    "print(candles)"
   ]
  },
  {
   "cell_type": "code",
   "execution_count": 9,
   "id": "bcad8929",
   "metadata": {},
   "outputs": [
    {
     "data": {
      "text/html": [
       "<div>\n",
       "<style scoped>\n",
       "    .dataframe tbody tr th:only-of-type {\n",
       "        vertical-align: middle;\n",
       "    }\n",
       "\n",
       "    .dataframe tbody tr th {\n",
       "        vertical-align: top;\n",
       "    }\n",
       "\n",
       "    .dataframe thead th {\n",
       "        text-align: right;\n",
       "    }\n",
       "</style>\n",
       "<table border=\"1\" class=\"dataframe\">\n",
       "  <thead>\n",
       "    <tr style=\"text-align: right;\">\n",
       "      <th></th>\n",
       "      <th>close</th>\n",
       "      <th>high</th>\n",
       "      <th>low</th>\n",
       "      <th>open</th>\n",
       "      <th>time</th>\n",
       "      <th>volume</th>\n",
       "    </tr>\n",
       "  </thead>\n",
       "  <tbody>\n",
       "    <tr>\n",
       "      <th>0</th>\n",
       "      <td>60569.46</td>\n",
       "      <td>61199.65</td>\n",
       "      <td>60369.15</td>\n",
       "      <td>60453.50</td>\n",
       "      <td>1637100000</td>\n",
       "      <td>1166.17851</td>\n",
       "    </tr>\n",
       "    <tr>\n",
       "      <th>1</th>\n",
       "      <td>60058.87</td>\n",
       "      <td>60673.99</td>\n",
       "      <td>60000.00</td>\n",
       "      <td>60568.38</td>\n",
       "      <td>1637103600</td>\n",
       "      <td>1065.41727</td>\n",
       "    </tr>\n",
       "    <tr>\n",
       "      <th>2</th>\n",
       "      <td>59712.06</td>\n",
       "      <td>60437.68</td>\n",
       "      <td>59450.00</td>\n",
       "      <td>60058.87</td>\n",
       "      <td>1637107200</td>\n",
       "      <td>2290.43430</td>\n",
       "    </tr>\n",
       "    <tr>\n",
       "      <th>3</th>\n",
       "      <td>59317.37</td>\n",
       "      <td>60275.44</td>\n",
       "      <td>59230.76</td>\n",
       "      <td>59712.06</td>\n",
       "      <td>1637110800</td>\n",
       "      <td>2180.24673</td>\n",
       "    </tr>\n",
       "    <tr>\n",
       "      <th>4</th>\n",
       "      <td>59371.88</td>\n",
       "      <td>59737.62</td>\n",
       "      <td>59082.21</td>\n",
       "      <td>59317.38</td>\n",
       "      <td>1637114400</td>\n",
       "      <td>2442.80294</td>\n",
       "    </tr>\n",
       "  </tbody>\n",
       "</table>\n",
       "</div>"
      ],
      "text/plain": [
       "      close      high       low      open        time      volume\n",
       "0  60569.46  61199.65  60369.15  60453.50  1637100000  1166.17851\n",
       "1  60058.87  60673.99  60000.00  60568.38  1637103600  1065.41727\n",
       "2  59712.06  60437.68  59450.00  60058.87  1637107200  2290.43430\n",
       "3  59317.37  60275.44  59230.76  59712.06  1637110800  2180.24673\n",
       "4  59371.88  59737.62  59082.21  59317.38  1637114400  2442.80294"
      ]
     },
     "execution_count": 9,
     "metadata": {},
     "output_type": "execute_result"
    }
   ],
   "source": [
    "candles.head()"
   ]
  },
  {
   "cell_type": "code",
   "execution_count": 10,
   "id": "7b28c113",
   "metadata": {},
   "outputs": [
    {
     "data": {
      "text/plain": [
       "<AxesSubplot:>"
      ]
     },
     "execution_count": 10,
     "metadata": {},
     "output_type": "execute_result"
    },
    {
     "data": {
      "image/png": "[encoded data removed]",
      "text/plain": [
       "<Figure size 432x288 with 1 Axes>"
      ]
     },
     "metadata": {
      "needs_background": "light"
     },
     "output_type": "display_data"
    }
   ],
   "source": [
    "candles.plot()"
   ]
  },
  {
   "cell_type": "code",
   "execution_count": 4,
   "id": "bb611c86",
   "metadata": {},
   "outputs": [
    {
     "ename": "NameError",
     "evalue": "name 'cp' is not defined",
     "output_type": "error",
     "traceback": [
      "\u001b[0;31m---------------------------------------------------------------------------\u001b[0m",
      "\u001b[0;31mNameError\u001b[0m                                 Traceback (most recent call last)",
      "\u001b[0;32m/tmp/ipykernel_39/3478496399.py\u001b[0m in \u001b[0;36m<module>\u001b[0;34m\u001b[0m\n\u001b[0;32m----> 1\u001b[0;31m \u001b[0mprice\u001b[0m \u001b[0;34m=\u001b[0m \u001b[0mcp\u001b[0m\u001b[0;34m.\u001b[0m\u001b[0mget_live_price\u001b[0m\u001b[0;34m(\u001b[0m\u001b[0;34m'binance'\u001b[0m\u001b[0;34m,\u001b[0m \u001b[0;34m[\u001b[0m\u001b[0;34m'BTC/USDT'\u001b[0m\u001b[0;34m]\u001b[0m\u001b[0;34m)\u001b[0m\u001b[0;34m\u001b[0m\u001b[0;34m\u001b[0m\u001b[0m\n\u001b[0m\u001b[1;32m      2\u001b[0m \u001b[0mprint\u001b[0m\u001b[0;34m(\u001b[0m\u001b[0mprice\u001b[0m\u001b[0;34m)\u001b[0m\u001b[0;34m\u001b[0m\u001b[0;34m\u001b[0m\u001b[0m\n",
      "\u001b[0;31mNameError\u001b[0m: name 'cp' is not defined"
     ]
    }
   ],
   "source": [
    "price = cp.get_live_price('binance', ['BTC/USDT'])\n",
    "print(price)"
   ]
  },
  {
   "cell_type": "code",
   "execution_count": null,
   "id": "a078060a",
   "metadata": {},
   "outputs": [],
   "source": []
  }
 ],
 "metadata": {
  "kernelspec": {
   "display_name": "Python 3 (ipykernel)",
   "language": "python",
   "name": "python3"
  },
  "language_info": {
   "codemirror_mode": {
    "name": "ipython",
    "version": 3
   },
   "file_extension": ".py",
   "mimetype": "text/x-python",
   "name": "python",
   "nbconvert_exporter": "python",
   "pygments_lexer": "ipython3",
   "version": "3.9.7"
  }
 },
 "nbformat": 4,
 "nbformat_minor": 5
}
